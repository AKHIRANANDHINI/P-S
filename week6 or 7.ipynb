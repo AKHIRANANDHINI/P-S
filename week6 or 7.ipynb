{
  "nbformat": 4,
  "nbformat_minor": 0,
  "metadata": {
    "colab": {
      "provenance": [],
      "authorship_tag": "ABX9TyME+Bu3auxMnHkXEHeznmiJ",
      "include_colab_link": true
    },
    "kernelspec": {
      "name": "python3",
      "display_name": "Python 3"
    },
    "language_info": {
      "name": "python"
    }
  },
  "cells": [
    {
      "cell_type": "markdown",
      "metadata": {
        "id": "view-in-github",
        "colab_type": "text"
      },
      "source": [
        "<a href=\"https://colab.research.google.com/github/AKHIRANANDHINI/P-S/blob/main/week6%20or%207.ipynb\" target=\"_parent\"><img src=\"https://colab.research.google.com/assets/colab-badge.svg\" alt=\"Open In Colab\"/></a>"
      ]
    },
    {
      "cell_type": "code",
      "source": [
        "import numpy as np\n",
        "import scipy.stats as stats\n",
        "\n",
        "# Given data\n",
        "fares = np.array([345, 355, 360, 340, 352, 338, 355, 347, 358, 349, 353, 340, 359, 343, 350])\n",
        "\n",
        "# Step 1: Compute the sample mean and standard deviation\n",
        "sample_mean = np.mean(fares)\n",
        "sample_std = np.std(fares, ddof=1)  # Use ddof=1 for sample standard deviation\n",
        "n = len(fares)\n",
        "\n",
        "# Step 2: Calculate the 95% confidence interval\n",
        "alpha = 0.05  # 95% confidence level\n",
        "t_critical = stats.t.ppf(1 - alpha/2, df=n-1)  # Two-tailed t-critical value\n",
        "margin_of_error = t_critical * (sample_std / np.sqrt(n))\n",
        "confidence_interval = (sample_mean - margin_of_error, sample_mean + margin_of_error)\n",
        "\n",
        "# Step 3: Hypothesis test assessment\n",
        "hypothesized_mean = 350\n",
        "reject_null = hypothesized_mean < confidence_interval[0] or hypothesized_mean > confidence_interval[1]\n",
        "\n",
        "# Output results\n",
        "print(f\"Sample Mean: {sample_mean:.2f}\")\n",
        "print(f\"Sample Standard Deviation: {sample_std:.2f}\")\n",
        "print(f\"95% Confidence Interval: {confidence_interval}\")\n",
        "if reject_null:\n",
        "    print(\"The null hypothesis is rejected. The average fare is significantly different from ₹350.\")\n",
        "else:\n",
        "    print(\"The null hypothesis is not rejected. There is no significant difference from ₹350.\")"
      ],
      "metadata": {
        "colab": {
          "base_uri": "https://localhost:8080/"
        },
        "id": "sTTG1bHMG7RE",
        "outputId": "a8dfb87f-3a0b-45dd-fd20-94d1ff126b61"
      },
      "execution_count": 8,
      "outputs": [
        {
          "output_type": "stream",
          "name": "stdout",
          "text": [
            "Sample Mean: 349.60\n",
            "Sample Standard Deviation: 7.24\n",
            "95% Confidence Interval: (345.5912948002189, 353.6087051997811)\n",
            "The null hypothesis is not rejected. There is no significant difference from ₹350.\n"
          ]
        }
      ]
    }
  ]
}